{
 "cells": [
  {
   "cell_type": "code",
   "execution_count": 33,
   "id": "997dcdb5",
   "metadata": {},
   "outputs": [
    {
     "name": "stderr",
     "output_type": "stream",
     "text": [
      "C:\\ProgramData\\Anaconda3\\lib\\site-packages\\sklearn\\manifold\\_t_sne.py:780: FutureWarning:\n",
      "\n",
      "The default initialization in TSNE will change from 'random' to 'pca' in 1.2.\n",
      "\n",
      "C:\\ProgramData\\Anaconda3\\lib\\site-packages\\sklearn\\manifold\\_t_sne.py:790: FutureWarning:\n",
      "\n",
      "The default learning rate in TSNE will change from 200.0 to 'auto' in 1.2.\n",
      "\n"
     ]
    },
    {
     "data": {
      "application/vnd.plotly.v1+json": {
       "config": {
        "plotlyServerURL": "https://plot.ly"
       },
       "data": [
        {
         "mode": "markers",
         "text": [
          "0-35",
          "m",
          "f",
          "a_level_or_equivalent",
          "lower_than_a_level",
          "pass",
          "withdrawn",
          "35-55",
          "fail",
          "he_qualification",
          "20-30",
          "30-40",
          "10-20",
          "scotland",
          "east_anglian_region",
          "0-10",
          "40-50",
          "london_region",
          "50-60",
          "south_region",
          "distinction",
          "north_western_region",
          "60-70",
          "70-80",
          "80-90",
          "west_midlands_region",
          "90-100",
          "south_west_region",
          "east_midlands_region",
          "south_east_region",
          "wales",
          "yorkshire_region",
          "north_region",
          "ireland",
          "29-39",
          "no_formal_quals",
          "post_graduate_qualification",
          "41-51",
          "55",
          "59-69",
          "33-43",
          "46-56",
          "45-55"
         ],
         "type": "scatter",
         "x": [
          -46.79021072387695,
          40.671722412109375,
          31.08732032775879,
          26.365867614746094,
          3.8216211795806885,
          -4.613947868347168,
          -33.963584899902344,
          -70.12162780761719,
          -21.974966049194336,
          56.807003021240234,
          47.73029708862305,
          25.250459671020508,
          48.246315002441406,
          -105.21759796142578,
          -85.02017211914062,
          -18.68914794921875,
          27.935199737548828,
          -45.96294021606445,
          -25.146827697753906,
          -106.44630432128906,
          -15.94737434387207,
          -61.206851959228516,
          2.6581735610961914,
          5.737631320953369,
          -5.257451057434082,
          -75.86261749267578,
          21.712139129638672,
          -62.4221305847168,
          -71.53361511230469,
          -90.67633819580078,
          -39.14759063720703,
          -49.950286865234375,
          114.0176010131836,
          92.55620574951172,
          99.40727233886719,
          -16.4553279876709,
          86.45561981201172,
          76.85546875,
          51.040916442871094,
          11.646224975585938,
          -12.013601303100586,
          10.78502082824707,
          -11.267359733581543
         ],
         "y": [
          -51.57729721069336,
          -20.55684471130371,
          -78.03291320800781,
          -47.50859451293945,
          -45.35657501220703,
          -88.81268310546875,
          -85.67366027832031,
          -64.53791046142578,
          -108.00506591796875,
          -49.003726959228516,
          44.74529266357422,
          57.535430908203125,
          73.74655151367188,
          -20.1082763671875,
          0.5641463994979858,
          44.60174560546875,
          29.67937660217285,
          24.828662872314453,
          69.01972198486328,
          13.522505760192871,
          -66.37311553955078,
          -0.1383858025074005,
          63.34980392456055,
          38.30019760131836,
          87.17292785644531,
          -24.476665496826172,
          85.73551940917969,
          46.70643615722656,
          21.603105545043945,
          39.23495101928711,
          0.9739803075790405,
          -22.083728790283203,
          0.9337422847747803,
          -30.15713882446289,
          40.66789245605469,
          -31.680267333984375,
          15.251225471496582,
          -8.549514770507812,
          4.108453273773193,
          8.221060752868652,
          14.05337905883789,
          -14.278115272521973,
          -8.042296409606934
         ]
        }
       ],
       "layout": {
        "template": {
         "data": {
          "bar": [
           {
            "error_x": {
             "color": "#2a3f5f"
            },
            "error_y": {
             "color": "#2a3f5f"
            },
            "marker": {
             "line": {
              "color": "#E5ECF6",
              "width": 0.5
             },
             "pattern": {
              "fillmode": "overlay",
              "size": 10,
              "solidity": 0.2
             }
            },
            "type": "bar"
           }
          ],
          "barpolar": [
           {
            "marker": {
             "line": {
              "color": "#E5ECF6",
              "width": 0.5
             },
             "pattern": {
              "fillmode": "overlay",
              "size": 10,
              "solidity": 0.2
             }
            },
            "type": "barpolar"
           }
          ],
          "carpet": [
           {
            "aaxis": {
             "endlinecolor": "#2a3f5f",
             "gridcolor": "white",
             "linecolor": "white",
             "minorgridcolor": "white",
             "startlinecolor": "#2a3f5f"
            },
            "baxis": {
             "endlinecolor": "#2a3f5f",
             "gridcolor": "white",
             "linecolor": "white",
             "minorgridcolor": "white",
             "startlinecolor": "#2a3f5f"
            },
            "type": "carpet"
           }
          ],
          "choropleth": [
           {
            "colorbar": {
             "outlinewidth": 0,
             "ticks": ""
            },
            "type": "choropleth"
           }
          ],
          "contour": [
           {
            "colorbar": {
             "outlinewidth": 0,
             "ticks": ""
            },
            "colorscale": [
             [
              0,
              "#0d0887"
             ],
             [
              0.1111111111111111,
              "#46039f"
             ],
             [
              0.2222222222222222,
              "#7201a8"
             ],
             [
              0.3333333333333333,
              "#9c179e"
             ],
             [
              0.4444444444444444,
              "#bd3786"
             ],
             [
              0.5555555555555556,
              "#d8576b"
             ],
             [
              0.6666666666666666,
              "#ed7953"
             ],
             [
              0.7777777777777778,
              "#fb9f3a"
             ],
             [
              0.8888888888888888,
              "#fdca26"
             ],
             [
              1,
              "#f0f921"
             ]
            ],
            "type": "contour"
           }
          ],
          "contourcarpet": [
           {
            "colorbar": {
             "outlinewidth": 0,
             "ticks": ""
            },
            "type": "contourcarpet"
           }
          ],
          "heatmap": [
           {
            "colorbar": {
             "outlinewidth": 0,
             "ticks": ""
            },
            "colorscale": [
             [
              0,
              "#0d0887"
             ],
             [
              0.1111111111111111,
              "#46039f"
             ],
             [
              0.2222222222222222,
              "#7201a8"
             ],
             [
              0.3333333333333333,
              "#9c179e"
             ],
             [
              0.4444444444444444,
              "#bd3786"
             ],
             [
              0.5555555555555556,
              "#d8576b"
             ],
             [
              0.6666666666666666,
              "#ed7953"
             ],
             [
              0.7777777777777778,
              "#fb9f3a"
             ],
             [
              0.8888888888888888,
              "#fdca26"
             ],
             [
              1,
              "#f0f921"
             ]
            ],
            "type": "heatmap"
           }
          ],
          "heatmapgl": [
           {
            "colorbar": {
             "outlinewidth": 0,
             "ticks": ""
            },
            "colorscale": [
             [
              0,
              "#0d0887"
             ],
             [
              0.1111111111111111,
              "#46039f"
             ],
             [
              0.2222222222222222,
              "#7201a8"
             ],
             [
              0.3333333333333333,
              "#9c179e"
             ],
             [
              0.4444444444444444,
              "#bd3786"
             ],
             [
              0.5555555555555556,
              "#d8576b"
             ],
             [
              0.6666666666666666,
              "#ed7953"
             ],
             [
              0.7777777777777778,
              "#fb9f3a"
             ],
             [
              0.8888888888888888,
              "#fdca26"
             ],
             [
              1,
              "#f0f921"
             ]
            ],
            "type": "heatmapgl"
           }
          ],
          "histogram": [
           {
            "marker": {
             "pattern": {
              "fillmode": "overlay",
              "size": 10,
              "solidity": 0.2
             }
            },
            "type": "histogram"
           }
          ],
          "histogram2d": [
           {
            "colorbar": {
             "outlinewidth": 0,
             "ticks": ""
            },
            "colorscale": [
             [
              0,
              "#0d0887"
             ],
             [
              0.1111111111111111,
              "#46039f"
             ],
             [
              0.2222222222222222,
              "#7201a8"
             ],
             [
              0.3333333333333333,
              "#9c179e"
             ],
             [
              0.4444444444444444,
              "#bd3786"
             ],
             [
              0.5555555555555556,
              "#d8576b"
             ],
             [
              0.6666666666666666,
              "#ed7953"
             ],
             [
              0.7777777777777778,
              "#fb9f3a"
             ],
             [
              0.8888888888888888,
              "#fdca26"
             ],
             [
              1,
              "#f0f921"
             ]
            ],
            "type": "histogram2d"
           }
          ],
          "histogram2dcontour": [
           {
            "colorbar": {
             "outlinewidth": 0,
             "ticks": ""
            },
            "colorscale": [
             [
              0,
              "#0d0887"
             ],
             [
              0.1111111111111111,
              "#46039f"
             ],
             [
              0.2222222222222222,
              "#7201a8"
             ],
             [
              0.3333333333333333,
              "#9c179e"
             ],
             [
              0.4444444444444444,
              "#bd3786"
             ],
             [
              0.5555555555555556,
              "#d8576b"
             ],
             [
              0.6666666666666666,
              "#ed7953"
             ],
             [
              0.7777777777777778,
              "#fb9f3a"
             ],
             [
              0.8888888888888888,
              "#fdca26"
             ],
             [
              1,
              "#f0f921"
             ]
            ],
            "type": "histogram2dcontour"
           }
          ],
          "mesh3d": [
           {
            "colorbar": {
             "outlinewidth": 0,
             "ticks": ""
            },
            "type": "mesh3d"
           }
          ],
          "parcoords": [
           {
            "line": {
             "colorbar": {
              "outlinewidth": 0,
              "ticks": ""
             }
            },
            "type": "parcoords"
           }
          ],
          "pie": [
           {
            "automargin": true,
            "type": "pie"
           }
          ],
          "scatter": [
           {
            "fillpattern": {
             "fillmode": "overlay",
             "size": 10,
             "solidity": 0.2
            },
            "type": "scatter"
           }
          ],
          "scatter3d": [
           {
            "line": {
             "colorbar": {
              "outlinewidth": 0,
              "ticks": ""
             }
            },
            "marker": {
             "colorbar": {
              "outlinewidth": 0,
              "ticks": ""
             }
            },
            "type": "scatter3d"
           }
          ],
          "scattercarpet": [
           {
            "marker": {
             "colorbar": {
              "outlinewidth": 0,
              "ticks": ""
             }
            },
            "type": "scattercarpet"
           }
          ],
          "scattergeo": [
           {
            "marker": {
             "colorbar": {
              "outlinewidth": 0,
              "ticks": ""
             }
            },
            "type": "scattergeo"
           }
          ],
          "scattergl": [
           {
            "marker": {
             "colorbar": {
              "outlinewidth": 0,
              "ticks": ""
             }
            },
            "type": "scattergl"
           }
          ],
          "scattermapbox": [
           {
            "marker": {
             "colorbar": {
              "outlinewidth": 0,
              "ticks": ""
             }
            },
            "type": "scattermapbox"
           }
          ],
          "scatterpolar": [
           {
            "marker": {
             "colorbar": {
              "outlinewidth": 0,
              "ticks": ""
             }
            },
            "type": "scatterpolar"
           }
          ],
          "scatterpolargl": [
           {
            "marker": {
             "colorbar": {
              "outlinewidth": 0,
              "ticks": ""
             }
            },
            "type": "scatterpolargl"
           }
          ],
          "scatterternary": [
           {
            "marker": {
             "colorbar": {
              "outlinewidth": 0,
              "ticks": ""
             }
            },
            "type": "scatterternary"
           }
          ],
          "surface": [
           {
            "colorbar": {
             "outlinewidth": 0,
             "ticks": ""
            },
            "colorscale": [
             [
              0,
              "#0d0887"
             ],
             [
              0.1111111111111111,
              "#46039f"
             ],
             [
              0.2222222222222222,
              "#7201a8"
             ],
             [
              0.3333333333333333,
              "#9c179e"
             ],
             [
              0.4444444444444444,
              "#bd3786"
             ],
             [
              0.5555555555555556,
              "#d8576b"
             ],
             [
              0.6666666666666666,
              "#ed7953"
             ],
             [
              0.7777777777777778,
              "#fb9f3a"
             ],
             [
              0.8888888888888888,
              "#fdca26"
             ],
             [
              1,
              "#f0f921"
             ]
            ],
            "type": "surface"
           }
          ],
          "table": [
           {
            "cells": {
             "fill": {
              "color": "#EBF0F8"
             },
             "line": {
              "color": "white"
             }
            },
            "header": {
             "fill": {
              "color": "#C8D4E3"
             },
             "line": {
              "color": "white"
             }
            },
            "type": "table"
           }
          ]
         },
         "layout": {
          "annotationdefaults": {
           "arrowcolor": "#2a3f5f",
           "arrowhead": 0,
           "arrowwidth": 1
          },
          "autotypenumbers": "strict",
          "coloraxis": {
           "colorbar": {
            "outlinewidth": 0,
            "ticks": ""
           }
          },
          "colorscale": {
           "diverging": [
            [
             0,
             "#8e0152"
            ],
            [
             0.1,
             "#c51b7d"
            ],
            [
             0.2,
             "#de77ae"
            ],
            [
             0.3,
             "#f1b6da"
            ],
            [
             0.4,
             "#fde0ef"
            ],
            [
             0.5,
             "#f7f7f7"
            ],
            [
             0.6,
             "#e6f5d0"
            ],
            [
             0.7,
             "#b8e186"
            ],
            [
             0.8,
             "#7fbc41"
            ],
            [
             0.9,
             "#4d9221"
            ],
            [
             1,
             "#276419"
            ]
           ],
           "sequential": [
            [
             0,
             "#0d0887"
            ],
            [
             0.1111111111111111,
             "#46039f"
            ],
            [
             0.2222222222222222,
             "#7201a8"
            ],
            [
             0.3333333333333333,
             "#9c179e"
            ],
            [
             0.4444444444444444,
             "#bd3786"
            ],
            [
             0.5555555555555556,
             "#d8576b"
            ],
            [
             0.6666666666666666,
             "#ed7953"
            ],
            [
             0.7777777777777778,
             "#fb9f3a"
            ],
            [
             0.8888888888888888,
             "#fdca26"
            ],
            [
             1,
             "#f0f921"
            ]
           ],
           "sequentialminus": [
            [
             0,
             "#0d0887"
            ],
            [
             0.1111111111111111,
             "#46039f"
            ],
            [
             0.2222222222222222,
             "#7201a8"
            ],
            [
             0.3333333333333333,
             "#9c179e"
            ],
            [
             0.4444444444444444,
             "#bd3786"
            ],
            [
             0.5555555555555556,
             "#d8576b"
            ],
            [
             0.6666666666666666,
             "#ed7953"
            ],
            [
             0.7777777777777778,
             "#fb9f3a"
            ],
            [
             0.8888888888888888,
             "#fdca26"
            ],
            [
             1,
             "#f0f921"
            ]
           ]
          },
          "colorway": [
           "#636efa",
           "#EF553B",
           "#00cc96",
           "#ab63fa",
           "#FFA15A",
           "#19d3f3",
           "#FF6692",
           "#B6E880",
           "#FF97FF",
           "#FECB52"
          ],
          "font": {
           "color": "#2a3f5f"
          },
          "geo": {
           "bgcolor": "white",
           "lakecolor": "white",
           "landcolor": "#E5ECF6",
           "showlakes": true,
           "showland": true,
           "subunitcolor": "white"
          },
          "hoverlabel": {
           "align": "left"
          },
          "hovermode": "closest",
          "mapbox": {
           "style": "light"
          },
          "paper_bgcolor": "white",
          "plot_bgcolor": "#E5ECF6",
          "polar": {
           "angularaxis": {
            "gridcolor": "white",
            "linecolor": "white",
            "ticks": ""
           },
           "bgcolor": "#E5ECF6",
           "radialaxis": {
            "gridcolor": "white",
            "linecolor": "white",
            "ticks": ""
           }
          },
          "scene": {
           "xaxis": {
            "backgroundcolor": "#E5ECF6",
            "gridcolor": "white",
            "gridwidth": 2,
            "linecolor": "white",
            "showbackground": true,
            "ticks": "",
            "zerolinecolor": "white"
           },
           "yaxis": {
            "backgroundcolor": "#E5ECF6",
            "gridcolor": "white",
            "gridwidth": 2,
            "linecolor": "white",
            "showbackground": true,
            "ticks": "",
            "zerolinecolor": "white"
           },
           "zaxis": {
            "backgroundcolor": "#E5ECF6",
            "gridcolor": "white",
            "gridwidth": 2,
            "linecolor": "white",
            "showbackground": true,
            "ticks": "",
            "zerolinecolor": "white"
           }
          },
          "shapedefaults": {
           "line": {
            "color": "#2a3f5f"
           }
          },
          "ternary": {
           "aaxis": {
            "gridcolor": "white",
            "linecolor": "white",
            "ticks": ""
           },
           "baxis": {
            "gridcolor": "white",
            "linecolor": "white",
            "ticks": ""
           },
           "bgcolor": "#E5ECF6",
           "caxis": {
            "gridcolor": "white",
            "linecolor": "white",
            "ticks": ""
           }
          },
          "title": {
           "x": 0.05
          },
          "xaxis": {
           "automargin": true,
           "gridcolor": "white",
           "linecolor": "white",
           "ticks": "",
           "title": {
            "standoff": 15
           },
           "zerolinecolor": "white",
           "zerolinewidth": 2
          },
          "yaxis": {
           "automargin": true,
           "gridcolor": "white",
           "linecolor": "white",
           "ticks": "",
           "title": {
            "standoff": 15
           },
           "zerolinecolor": "white",
           "zerolinewidth": 2
          }
         }
        },
        "title": {
         "text": "Word2Vec - Visualizzazione embedding con TSNE"
        }
       }
      },
      "text/html": [
       "<div>                            <div id=\"6719e658-f760-4156-8998-e6fa123493f8\" class=\"plotly-graph-div\" style=\"height:525px; width:100%;\"></div>            <script type=\"text/javascript\">                require([\"plotly\"], function(Plotly) {                    window.PLOTLYENV=window.PLOTLYENV || {};                                    if (document.getElementById(\"6719e658-f760-4156-8998-e6fa123493f8\")) {                    Plotly.newPlot(                        \"6719e658-f760-4156-8998-e6fa123493f8\",                        [{\"mode\":\"markers\",\"text\":[\"0-35\",\"m\",\"f\",\"a_level_or_equivalent\",\"lower_than_a_level\",\"pass\",\"withdrawn\",\"35-55\",\"fail\",\"he_qualification\",\"20-30\",\"30-40\",\"10-20\",\"scotland\",\"east_anglian_region\",\"0-10\",\"40-50\",\"london_region\",\"50-60\",\"south_region\",\"distinction\",\"north_western_region\",\"60-70\",\"70-80\",\"80-90\",\"west_midlands_region\",\"90-100\",\"south_west_region\",\"east_midlands_region\",\"south_east_region\",\"wales\",\"yorkshire_region\",\"north_region\",\"ireland\",\"29-39\",\"no_formal_quals\",\"post_graduate_qualification\",\"41-51\",\"55\",\"59-69\",\"33-43\",\"46-56\",\"45-55\"],\"x\":[-46.79021072387695,40.671722412109375,31.08732032775879,26.365867614746094,3.8216211795806885,-4.613947868347168,-33.963584899902344,-70.12162780761719,-21.974966049194336,56.807003021240234,47.73029708862305,25.250459671020508,48.246315002441406,-105.21759796142578,-85.02017211914062,-18.68914794921875,27.935199737548828,-45.96294021606445,-25.146827697753906,-106.44630432128906,-15.94737434387207,-61.206851959228516,2.6581735610961914,5.737631320953369,-5.257451057434082,-75.86261749267578,21.712139129638672,-62.4221305847168,-71.53361511230469,-90.67633819580078,-39.14759063720703,-49.950286865234375,114.0176010131836,92.55620574951172,99.40727233886719,-16.4553279876709,86.45561981201172,76.85546875,51.040916442871094,11.646224975585938,-12.013601303100586,10.78502082824707,-11.267359733581543],\"y\":[-51.57729721069336,-20.55684471130371,-78.03291320800781,-47.50859451293945,-45.35657501220703,-88.81268310546875,-85.67366027832031,-64.53791046142578,-108.00506591796875,-49.003726959228516,44.74529266357422,57.535430908203125,73.74655151367188,-20.1082763671875,0.5641463994979858,44.60174560546875,29.67937660217285,24.828662872314453,69.01972198486328,13.522505760192871,-66.37311553955078,-0.1383858025074005,63.34980392456055,38.30019760131836,87.17292785644531,-24.476665496826172,85.73551940917969,46.70643615722656,21.603105545043945,39.23495101928711,0.9739803075790405,-22.083728790283203,0.9337422847747803,-30.15713882446289,40.66789245605469,-31.680267333984375,15.251225471496582,-8.549514770507812,4.108453273773193,8.221060752868652,14.05337905883789,-14.278115272521973,-8.042296409606934],\"type\":\"scatter\"}],                        {\"template\":{\"data\":{\"histogram2dcontour\":[{\"type\":\"histogram2dcontour\",\"colorbar\":{\"outlinewidth\":0,\"ticks\":\"\"},\"colorscale\":[[0.0,\"#0d0887\"],[0.1111111111111111,\"#46039f\"],[0.2222222222222222,\"#7201a8\"],[0.3333333333333333,\"#9c179e\"],[0.4444444444444444,\"#bd3786\"],[0.5555555555555556,\"#d8576b\"],[0.6666666666666666,\"#ed7953\"],[0.7777777777777778,\"#fb9f3a\"],[0.8888888888888888,\"#fdca26\"],[1.0,\"#f0f921\"]]}],\"choropleth\":[{\"type\":\"choropleth\",\"colorbar\":{\"outlinewidth\":0,\"ticks\":\"\"}}],\"histogram2d\":[{\"type\":\"histogram2d\",\"colorbar\":{\"outlinewidth\":0,\"ticks\":\"\"},\"colorscale\":[[0.0,\"#0d0887\"],[0.1111111111111111,\"#46039f\"],[0.2222222222222222,\"#7201a8\"],[0.3333333333333333,\"#9c179e\"],[0.4444444444444444,\"#bd3786\"],[0.5555555555555556,\"#d8576b\"],[0.6666666666666666,\"#ed7953\"],[0.7777777777777778,\"#fb9f3a\"],[0.8888888888888888,\"#fdca26\"],[1.0,\"#f0f921\"]]}],\"heatmap\":[{\"type\":\"heatmap\",\"colorbar\":{\"outlinewidth\":0,\"ticks\":\"\"},\"colorscale\":[[0.0,\"#0d0887\"],[0.1111111111111111,\"#46039f\"],[0.2222222222222222,\"#7201a8\"],[0.3333333333333333,\"#9c179e\"],[0.4444444444444444,\"#bd3786\"],[0.5555555555555556,\"#d8576b\"],[0.6666666666666666,\"#ed7953\"],[0.7777777777777778,\"#fb9f3a\"],[0.8888888888888888,\"#fdca26\"],[1.0,\"#f0f921\"]]}],\"heatmapgl\":[{\"type\":\"heatmapgl\",\"colorbar\":{\"outlinewidth\":0,\"ticks\":\"\"},\"colorscale\":[[0.0,\"#0d0887\"],[0.1111111111111111,\"#46039f\"],[0.2222222222222222,\"#7201a8\"],[0.3333333333333333,\"#9c179e\"],[0.4444444444444444,\"#bd3786\"],[0.5555555555555556,\"#d8576b\"],[0.6666666666666666,\"#ed7953\"],[0.7777777777777778,\"#fb9f3a\"],[0.8888888888888888,\"#fdca26\"],[1.0,\"#f0f921\"]]}],\"contourcarpet\":[{\"type\":\"contourcarpet\",\"colorbar\":{\"outlinewidth\":0,\"ticks\":\"\"}}],\"contour\":[{\"type\":\"contour\",\"colorbar\":{\"outlinewidth\":0,\"ticks\":\"\"},\"colorscale\":[[0.0,\"#0d0887\"],[0.1111111111111111,\"#46039f\"],[0.2222222222222222,\"#7201a8\"],[0.3333333333333333,\"#9c179e\"],[0.4444444444444444,\"#bd3786\"],[0.5555555555555556,\"#d8576b\"],[0.6666666666666666,\"#ed7953\"],[0.7777777777777778,\"#fb9f3a\"],[0.8888888888888888,\"#fdca26\"],[1.0,\"#f0f921\"]]}],\"surface\":[{\"type\":\"surface\",\"colorbar\":{\"outlinewidth\":0,\"ticks\":\"\"},\"colorscale\":[[0.0,\"#0d0887\"],[0.1111111111111111,\"#46039f\"],[0.2222222222222222,\"#7201a8\"],[0.3333333333333333,\"#9c179e\"],[0.4444444444444444,\"#bd3786\"],[0.5555555555555556,\"#d8576b\"],[0.6666666666666666,\"#ed7953\"],[0.7777777777777778,\"#fb9f3a\"],[0.8888888888888888,\"#fdca26\"],[1.0,\"#f0f921\"]]}],\"mesh3d\":[{\"type\":\"mesh3d\",\"colorbar\":{\"outlinewidth\":0,\"ticks\":\"\"}}],\"scatter\":[{\"fillpattern\":{\"fillmode\":\"overlay\",\"size\":10,\"solidity\":0.2},\"type\":\"scatter\"}],\"parcoords\":[{\"type\":\"parcoords\",\"line\":{\"colorbar\":{\"outlinewidth\":0,\"ticks\":\"\"}}}],\"scatterpolargl\":[{\"type\":\"scatterpolargl\",\"marker\":{\"colorbar\":{\"outlinewidth\":0,\"ticks\":\"\"}}}],\"bar\":[{\"error_x\":{\"color\":\"#2a3f5f\"},\"error_y\":{\"color\":\"#2a3f5f\"},\"marker\":{\"line\":{\"color\":\"#E5ECF6\",\"width\":0.5},\"pattern\":{\"fillmode\":\"overlay\",\"size\":10,\"solidity\":0.2}},\"type\":\"bar\"}],\"scattergeo\":[{\"type\":\"scattergeo\",\"marker\":{\"colorbar\":{\"outlinewidth\":0,\"ticks\":\"\"}}}],\"scatterpolar\":[{\"type\":\"scatterpolar\",\"marker\":{\"colorbar\":{\"outlinewidth\":0,\"ticks\":\"\"}}}],\"histogram\":[{\"marker\":{\"pattern\":{\"fillmode\":\"overlay\",\"size\":10,\"solidity\":0.2}},\"type\":\"histogram\"}],\"scattergl\":[{\"type\":\"scattergl\",\"marker\":{\"colorbar\":{\"outlinewidth\":0,\"ticks\":\"\"}}}],\"scatter3d\":[{\"type\":\"scatter3d\",\"line\":{\"colorbar\":{\"outlinewidth\":0,\"ticks\":\"\"}},\"marker\":{\"colorbar\":{\"outlinewidth\":0,\"ticks\":\"\"}}}],\"scattermapbox\":[{\"type\":\"scattermapbox\",\"marker\":{\"colorbar\":{\"outlinewidth\":0,\"ticks\":\"\"}}}],\"scatterternary\":[{\"type\":\"scatterternary\",\"marker\":{\"colorbar\":{\"outlinewidth\":0,\"ticks\":\"\"}}}],\"scattercarpet\":[{\"type\":\"scattercarpet\",\"marker\":{\"colorbar\":{\"outlinewidth\":0,\"ticks\":\"\"}}}],\"carpet\":[{\"aaxis\":{\"endlinecolor\":\"#2a3f5f\",\"gridcolor\":\"white\",\"linecolor\":\"white\",\"minorgridcolor\":\"white\",\"startlinecolor\":\"#2a3f5f\"},\"baxis\":{\"endlinecolor\":\"#2a3f5f\",\"gridcolor\":\"white\",\"linecolor\":\"white\",\"minorgridcolor\":\"white\",\"startlinecolor\":\"#2a3f5f\"},\"type\":\"carpet\"}],\"table\":[{\"cells\":{\"fill\":{\"color\":\"#EBF0F8\"},\"line\":{\"color\":\"white\"}},\"header\":{\"fill\":{\"color\":\"#C8D4E3\"},\"line\":{\"color\":\"white\"}},\"type\":\"table\"}],\"barpolar\":[{\"marker\":{\"line\":{\"color\":\"#E5ECF6\",\"width\":0.5},\"pattern\":{\"fillmode\":\"overlay\",\"size\":10,\"solidity\":0.2}},\"type\":\"barpolar\"}],\"pie\":[{\"automargin\":true,\"type\":\"pie\"}]},\"layout\":{\"autotypenumbers\":\"strict\",\"colorway\":[\"#636efa\",\"#EF553B\",\"#00cc96\",\"#ab63fa\",\"#FFA15A\",\"#19d3f3\",\"#FF6692\",\"#B6E880\",\"#FF97FF\",\"#FECB52\"],\"font\":{\"color\":\"#2a3f5f\"},\"hovermode\":\"closest\",\"hoverlabel\":{\"align\":\"left\"},\"paper_bgcolor\":\"white\",\"plot_bgcolor\":\"#E5ECF6\",\"polar\":{\"bgcolor\":\"#E5ECF6\",\"angularaxis\":{\"gridcolor\":\"white\",\"linecolor\":\"white\",\"ticks\":\"\"},\"radialaxis\":{\"gridcolor\":\"white\",\"linecolor\":\"white\",\"ticks\":\"\"}},\"ternary\":{\"bgcolor\":\"#E5ECF6\",\"aaxis\":{\"gridcolor\":\"white\",\"linecolor\":\"white\",\"ticks\":\"\"},\"baxis\":{\"gridcolor\":\"white\",\"linecolor\":\"white\",\"ticks\":\"\"},\"caxis\":{\"gridcolor\":\"white\",\"linecolor\":\"white\",\"ticks\":\"\"}},\"coloraxis\":{\"colorbar\":{\"outlinewidth\":0,\"ticks\":\"\"}},\"colorscale\":{\"sequential\":[[0.0,\"#0d0887\"],[0.1111111111111111,\"#46039f\"],[0.2222222222222222,\"#7201a8\"],[0.3333333333333333,\"#9c179e\"],[0.4444444444444444,\"#bd3786\"],[0.5555555555555556,\"#d8576b\"],[0.6666666666666666,\"#ed7953\"],[0.7777777777777778,\"#fb9f3a\"],[0.8888888888888888,\"#fdca26\"],[1.0,\"#f0f921\"]],\"sequentialminus\":[[0.0,\"#0d0887\"],[0.1111111111111111,\"#46039f\"],[0.2222222222222222,\"#7201a8\"],[0.3333333333333333,\"#9c179e\"],[0.4444444444444444,\"#bd3786\"],[0.5555555555555556,\"#d8576b\"],[0.6666666666666666,\"#ed7953\"],[0.7777777777777778,\"#fb9f3a\"],[0.8888888888888888,\"#fdca26\"],[1.0,\"#f0f921\"]],\"diverging\":[[0,\"#8e0152\"],[0.1,\"#c51b7d\"],[0.2,\"#de77ae\"],[0.3,\"#f1b6da\"],[0.4,\"#fde0ef\"],[0.5,\"#f7f7f7\"],[0.6,\"#e6f5d0\"],[0.7,\"#b8e186\"],[0.8,\"#7fbc41\"],[0.9,\"#4d9221\"],[1,\"#276419\"]]},\"xaxis\":{\"gridcolor\":\"white\",\"linecolor\":\"white\",\"ticks\":\"\",\"title\":{\"standoff\":15},\"zerolinecolor\":\"white\",\"automargin\":true,\"zerolinewidth\":2},\"yaxis\":{\"gridcolor\":\"white\",\"linecolor\":\"white\",\"ticks\":\"\",\"title\":{\"standoff\":15},\"zerolinecolor\":\"white\",\"automargin\":true,\"zerolinewidth\":2},\"scene\":{\"xaxis\":{\"backgroundcolor\":\"#E5ECF6\",\"gridcolor\":\"white\",\"linecolor\":\"white\",\"showbackground\":true,\"ticks\":\"\",\"zerolinecolor\":\"white\",\"gridwidth\":2},\"yaxis\":{\"backgroundcolor\":\"#E5ECF6\",\"gridcolor\":\"white\",\"linecolor\":\"white\",\"showbackground\":true,\"ticks\":\"\",\"zerolinecolor\":\"white\",\"gridwidth\":2},\"zaxis\":{\"backgroundcolor\":\"#E5ECF6\",\"gridcolor\":\"white\",\"linecolor\":\"white\",\"showbackground\":true,\"ticks\":\"\",\"zerolinecolor\":\"white\",\"gridwidth\":2}},\"shapedefaults\":{\"line\":{\"color\":\"#2a3f5f\"}},\"annotationdefaults\":{\"arrowcolor\":\"#2a3f5f\",\"arrowhead\":0,\"arrowwidth\":1},\"geo\":{\"bgcolor\":\"white\",\"landcolor\":\"#E5ECF6\",\"subunitcolor\":\"white\",\"showland\":true,\"showlakes\":true,\"lakecolor\":\"white\"},\"title\":{\"x\":0.05},\"mapbox\":{\"style\":\"light\"}}},\"title\":{\"text\":\"Word2Vec - Visualizzazione embedding con TSNE\"}},                        {\"responsive\": true}                    ).then(function(){\n",
       "                            \n",
       "var gd = document.getElementById('6719e658-f760-4156-8998-e6fa123493f8');\n",
       "var x = new MutationObserver(function (mutations, observer) {{\n",
       "        var display = window.getComputedStyle(gd).display;\n",
       "        if (!display || display === 'none') {{\n",
       "            console.log([gd, 'removed!']);\n",
       "            Plotly.purge(gd);\n",
       "            observer.disconnect();\n",
       "        }}\n",
       "}});\n",
       "\n",
       "// Listen for the removal of the full notebook cells\n",
       "var notebookContainer = gd.closest('#notebook-container');\n",
       "if (notebookContainer) {{\n",
       "    x.observe(notebookContainer, {childList: true});\n",
       "}}\n",
       "\n",
       "// Listen for the clearing of the current output cell\n",
       "var outputEl = gd.closest('.output');\n",
       "if (outputEl) {{\n",
       "    x.observe(outputEl, {childList: true});\n",
       "}}\n",
       "\n",
       "                        })                };                });            </script>        </div>"
      ]
     },
     "metadata": {},
     "output_type": "display_data"
    },
    {
     "name": "stderr",
     "output_type": "stream",
     "text": [
      "C:\\ProgramData\\Anaconda3\\lib\\site-packages\\sklearn\\manifold\\_t_sne.py:780: FutureWarning:\n",
      "\n",
      "The default initialization in TSNE will change from 'random' to 'pca' in 1.2.\n",
      "\n"
     ]
    },
    {
     "data": {
      "image/png": "[encoded data removed]",
      "text/plain": [
       "<Figure size 640x480 with 2 Axes>"
      ]
     },
     "metadata": {},
     "output_type": "display_data"
    },
    {
     "data": {
      "image/png": "[encoded data removed]",
      "text/plain": [
       "<Figure size 640x480 with 2 Axes>"
      ]
     },
     "metadata": {},
     "output_type": "display_data"
    }
   ],
   "source": [
    "import pandas as pd\n",
    "import nltk\n",
    "from random import shuffle\n",
    "from gensim.models import Word2Vec\n",
    "from sklearn.manifold import TSNE\n",
    "import numpy as np\n",
    "import matplotlib.pyplot as plt\n",
    "import plotly.graph_objs as go\n",
    "from sklearn.cluster import KMeans\n",
    "\n",
    "data = pd.read_csv(\"cleanedData2.csv\")\n",
    "\n",
    "data['courses'] = data[['code_module', 'code_presentation']].apply('-'.join, axis=1)\n",
    "data = data.replace(' ', '_', regex=True)\n",
    "\n",
    "# keep only relevant columns in our dataset\n",
    "data = data[['courses', 'id_student','gender','region',\n",
    "        'highest_education','imd_band', 'age_band',\n",
    "        'studied_credits', 'final_result']]\n",
    "\n",
    "\n",
    "tokenized_data = []\n",
    "aaa_2013j = ' '\n",
    "concatenatedAaa2013j = ' '\n",
    "aaa_2014j = ' '\n",
    "concatenatedAaa2014j = ' '\n",
    "bbb_2013b = ' '\n",
    "concatenatedBbb2013b = ' '\n",
    "bbb_2013j = ' '\n",
    "concatenatedBbb2013j = ' '\n",
    "bbb_2014b = ' '\n",
    "concatenatedBbb2014b = ' '\n",
    "bbb_2014j = ' '\n",
    "concatenatedBbb2014j = ' '\n",
    "ccc_2014b = ' '\n",
    "concatenatedCcc2014b = ' '\n",
    "ccc_2014j = ' '\n",
    "concatenatedCcc2014j = ' '\n",
    "ddd_2013b = ' '\n",
    "concatenatedDdd2013b = ' '\n",
    "ddd_2013j = ' '\n",
    "concatenatedDdd2013j = ' '\n",
    "ddd_2014b = ' '\n",
    "concatenatedDdd2014b = ' '\n",
    "ddd_2014j = ' '\n",
    "concatenatedDdd2014j = ' '\n",
    "eee_2013j = ' '\n",
    "concatenatedEee2013j = ' '\n",
    "eee_2014b = ' '\n",
    "concatenatedEee2014b = ' '\n",
    "eee_2014j = ' '\n",
    "concatenatedEee2014j = ' '\n",
    "fff_2013b = ' '\n",
    "concatenatedFff2013b = ' '\n",
    "fff_2013j = ' '\n",
    "concatenatedFff2013j = ' '\n",
    "fff_2014b = ' '\n",
    "concatenatedFff2014b = ' '\n",
    "fff_2014j = ' '\n",
    "concatenatedFff2014j = ' '\n",
    "ggg_2013j = ' '\n",
    "concatenatedGgg2013j = ' '\n",
    "ggg_2014b = ' '\n",
    "concatenatedGgg2014b = ' '\n",
    "ggg_2014j = ' '\n",
    "concatenatedGgg2014j = ' '\n",
    "for i in data.index:\n",
    "        if data['courses'][i] == 'AAA-2013J':\n",
    "                aaa_2013j = str(data['gender'][i] + ' ') + str(data['region'][i] + ' ') + str(data['highest_education'][i] + ' ') + str(data['imd_band'][i] + ' ') + str(data['age_band'][i] + ' ') + str(data['final_result'][i] + ' ')\n",
    "                aaa_2013j = aaa_2013j.lower()\n",
    "                split = aaa_2013j.split()\n",
    "                shuffle(split) \n",
    "                aaa_2013j = ' '.join(split) # Turn the list back into a string\n",
    "                concatenatedAaa2013j =' ' + aaa_2013j + concatenatedAaa2013j \n",
    "        elif data['courses'][i] == 'AAA-2014J':\n",
    "                aaa_2014j = str(data['gender'][i] + ' ') + str(data['region'][i] + ' ') + str(data['highest_education'][i] + ' ') + str(data['imd_band'][i] + ' ') + str(data['age_band'][i] + ' ') + str(data['final_result'][i] + ' ')\n",
    "                aaa_2014j = aaa_2014j.lower()\n",
    "                split = aaa_2014j.split()\n",
    "                shuffle(split)\n",
    "                aaa_2014j = ' '.join(split) # Turn the list back into a string \n",
    "                concatenatedAaa2014j =' ' + aaa_2014j + concatenatedAaa2014j\n",
    "        elif data['courses'][i] == 'BBB-2013B':\n",
    "                bbb_2013b = str(data['gender'][i] + ' ') + str(data['region'][i] + ' ') + str(data['highest_education'][i] + ' ') + str(data['imd_band'][i] + ' ') + str(data['age_band'][i] + ' ') + str(data['final_result'][i] + ' ')\n",
    "                bbb_2013b = bbb_2013b.lower()\n",
    "                split = bbb_2013b.split()\n",
    "                shuffle(split)\n",
    "                bbb_2013b = ' '.join(split) # Turn the list back into a string\n",
    "                concatenatedBbb2013b =' ' + bbb_2013b + concatenatedBbb2013b\n",
    "        elif data['courses'][i] == 'BBB-2013J':\n",
    "                bbb_2013j = str(data['gender'][i] + ' ') + str(data['region'][i] + ' ') + str(data['highest_education'][i] + ' ') + str(data['imd_band'][i] + ' ') + str(data['age_band'][i] + ' ') + str(data['final_result'][i] + ' ')\n",
    "                bbb_2013j = bbb_2013j.lower()\n",
    "                split = bbb_2013j.split()\n",
    "                shuffle(split)\n",
    "                bbb_2013j = ' '.join(split) # Turn the list back into a string\n",
    "                concatenatedBbb2013j =' ' + bbb_2013j + concatenatedBbb2013j\n",
    "        elif data['courses'][i] == 'BBB-2014B':\n",
    "                bbb_2014b = str(data['gender'][i] + ' ') + str(data['region'][i] + ' ') + str(data['highest_education'][i] + ' ') + str(data['imd_band'][i] + ' ') + str(data['age_band'][i] + ' ') + str(data['final_result'][i] + ' ')\n",
    "                bbb_2014b = bbb_2014b.lower()\n",
    "                split = bbb_2014b.split()\n",
    "                shuffle(split)\n",
    "                bbb_2014b = ' '.join(split) # Turn the list back into a string\n",
    "                concatenatedBbb2014b =' ' + bbb_2014b + concatenatedBbb2014b\n",
    "        elif data['courses'][i] == 'BBB-2014J':\n",
    "                bbb_2014j = str(data['gender'][i] + ' ') + str(data['region'][i] + ' ') + str(data['highest_education'][i] + ' ') + str(data['imd_band'][i] + ' ') + str(data['age_band'][i] + ' ') + str(data['final_result'][i] + ' ')\n",
    "                bbb_2014j = bbb_2014j.lower()\n",
    "                split = bbb_2014j.split()\n",
    "                shuffle(split)\n",
    "                bbb_2014j = ' '.join(split) # Turn the list back into a string\n",
    "                concatenatedBbb2014j =' ' + bbb_2014j + concatenatedBbb2014j\n",
    "        elif data['courses'][i] == 'CCC-2014B':\n",
    "                ccc_2014b = str(data['gender'][i] + ' ') + str(data['region'][i] + ' ') + str(data['highest_education'][i] + ' ') + str(data['imd_band'][i] + ' ') + str(data['age_band'][i] + ' ') + str(data['final_result'][i] + ' ')\n",
    "                ccc_2014b = ccc_2014b.lower()\n",
    "                split = ccc_2014b.split()\n",
    "                shuffle(split)\n",
    "                ccc_2014b = ' '.join(split) # Turn the list back into a string\n",
    "                concatenatedCcc2014b =' ' + ccc_2014b + concatenatedCcc2014b\n",
    "        elif data['courses'][i] == 'CCC-2014J':\n",
    "                ccc_2014j = str(data['gender'][i] + ' ') + str(data['region'][i] + ' ') + str(data['highest_education'][i] + ' ') + str(data['imd_band'][i] + ' ') + str(data['age_band'][i] + ' ') + str(data['final_result'][i] + ' ')\n",
    "                ccc_2014j = ccc_2014j.lower()\n",
    "                split = ccc_2014j.split()\n",
    "                shuffle(split)\n",
    "                ccc_2014j = ' '.join(split) # Turn the list back into a string\n",
    "                concatenatedCcc2014j =' ' + ccc_2014j + concatenatedCcc2014j\n",
    "        elif data['courses'][i] == 'DDD-2013B':\n",
    "                ddd_2013b = str(data['gender'][i] + ' ') + str(data['region'][i] + ' ') + str(data['highest_education'][i] + ' ') + str(data['imd_band'][i] + ' ') + str(data['age_band'][i] + ' ') + str(data['final_result'][i] + ' ')\n",
    "                ddd_2013b = ddd_2013b.lower()\n",
    "                split = ddd_2013b.split()\n",
    "                shuffle(split)\n",
    "                ddd_2013b = ' '.join(split) # Turn the list back into a string\n",
    "                concatenatedDdd2013b =' ' + ddd_2013b + concatenatedDdd2013b\n",
    "        elif data['courses'][i] == 'DDD-2013J':\n",
    "                ddd_2013j = str(data['gender'][i] + ' ') + str(data['region'][i] + ' ') + str(data['highest_education'][i] + ' ') + str(data['imd_band'][i] + ' ') + str(data['age_band'][i] + ' ') + str(data['final_result'][i] + ' ')\n",
    "                ddd_2013j = ddd_2013j.lower()\n",
    "                split = ddd_2013j.split()\n",
    "                shuffle(split)\n",
    "                ddd_2013j = ' '.join(split) # Turn the list back into a string\n",
    "                concatenatedDdd2013j =' ' + ddd_2013j + concatenatedDdd2013j\n",
    "        elif data['courses'][i] == 'DDD-2014B':\n",
    "                ddd_2014b = str(data['gender'][i] + ' ') + str(data['region'][i] + ' ') + str(data['highest_education'][i] + ' ') + str(data['imd_band'][i] + ' ') + str(data['age_band'][i] + ' ') + str(data['final_result'][i] + ' ')\n",
    "                ddd_2014b = ddd_2014b.lower()\n",
    "                split = ddd_2014b.split()\n",
    "                shuffle(split)\n",
    "                ddd_2014b = ' '.join(split) # Turn the list back into a string\n",
    "                concatenatedDdd2014b =' ' + ddd_2014b + concatenatedDdd2014b\n",
    "        elif data['courses'][i] == 'DDD-2014J':\n",
    "                ddd_2014j = str(data['gender'][i] + ' ') + str(data['region'][i] + ' ') + str(data['highest_education'][i] + ' ') + str(data['imd_band'][i] + ' ') + str(data['age_band'][i] + ' ') + str(data['final_result'][i] + ' ')\n",
    "                ddd_2014j = ddd_2014j.lower()\n",
    "                split = ddd_2014j.split()\n",
    "                shuffle(split)\n",
    "                ddd_2014j = ' '.join(split) # Turn the list back into a string\n",
    "                concatenatedDdd2014j =' ' + ddd_2014j + concatenatedDdd2014j\n",
    "        elif data['courses'][i] == 'EEE-2013J':\n",
    "                eee_2013j = str(data['gender'][i] + ' ') + str(data['region'][i] + ' ') + str(data['highest_education'][i] + ' ') + str(data['imd_band'][i] + ' ') + str(data['age_band'][i] + ' ') + str(data['final_result'][i] + ' ')\n",
    "                eee_2013j = eee_2013j.lower()\n",
    "                split = eee_2013j.split()\n",
    "                shuffle(split)\n",
    "                eee_2013j = ' '.join(split) # Turn the list back into a string\n",
    "                concatenatedEee2013j =' ' + eee_2013j + concatenatedEee2013j                                                                           \n",
    "        elif data['courses'][i] == 'EEE-2014B':\n",
    "                eee_2014b = str(data['gender'][i] + ' ') + str(data['region'][i] + ' ') + str(data['highest_education'][i] + ' ') + str(data['imd_band'][i] + ' ') + str(data['age_band'][i] + ' ') + str(data['final_result'][i] + ' ')\n",
    "                eee_2014b = eee_2014b.lower()\n",
    "                split = eee_2014b.split()\n",
    "                shuffle(split)\n",
    "                eee_2014b = ' '.join(split) # Turn the list back into a string\n",
    "                concatenatedEee2014b =' ' + eee_2014b + concatenatedEee2014b\n",
    "        elif data['courses'][i] == 'EEE-2014J':\n",
    "                eee_2014j = str(data['gender'][i] + ' ') + str(data['region'][i] + ' ') + str(data['highest_education'][i] + ' ') + str(data['imd_band'][i] + ' ') + str(data['age_band'][i] + ' ') + str(data['final_result'][i] + ' ')\n",
    "                eee_2014j = eee_2014j.lower()\n",
    "                split = eee_2014j.split()\n",
    "                shuffle(split)\n",
    "                eee_2014j = ' '.join(split) # Turn the list back into a string\n",
    "                concatenatedEee2014j =' ' + eee_2014j + concatenatedEee2014j\n",
    "        elif data['courses'][i] == 'FFF-2013B':\n",
    "                fff_2013b = str(data['gender'][i] + ' ') + str(data['region'][i] + ' ') + str(data['highest_education'][i] + ' ') + str(data['imd_band'][i] + ' ') + str(data['age_band'][i] + ' ') + str(data['final_result'][i] + ' ')\n",
    "                fff_2013b = fff_2013b.lower()\n",
    "                split = fff_2013b.split()\n",
    "                shuffle(split)\n",
    "                fff_2013b = ' '.join(split) # Turn the list back into a string\n",
    "                concatenatedFff2013b =' ' + fff_2013b + concatenatedFff2013b\n",
    "        elif data['courses'][i] == 'FFF-2013J':\n",
    "                fff_2013j = str(data['gender'][i] + ' ') + str(data['region'][i] + ' ') + str(data['highest_education'][i] + ' ') + str(data['imd_band'][i] + ' ') + str(data['age_band'][i] + ' ') + str(data['final_result'][i] + ' ')\n",
    "                fff_2013j = fff_2013j.lower()\n",
    "                split = fff_2013j.split()\n",
    "                shuffle(split)\n",
    "                fff_2013j = ' '.join(split) # Turn the list back into a string\n",
    "                concatenatedFff2013j =' ' + fff_2013j + concatenatedFff2013j\n",
    "        elif data['courses'][i] == 'FFF-2014B':\n",
    "                fff_2014b = str(data['gender'][i] + ' ') + str(data['region'][i] + ' ') + str(data['highest_education'][i] + ' ') + str(data['imd_band'][i] + ' ') + str(data['age_band'][i] + ' ') + str(data['final_result'][i] + ' ')\n",
    "                fff_2014b = fff_2014b.lower()\n",
    "                split = fff_2014b.split()\n",
    "                shuffle(split)\n",
    "                fff_2014b = ' '.join(split) # Turn the list back into a string\n",
    "                concatenatedFff2014b =' ' + fff_2014b + concatenatedFff2014b\n",
    "        elif data['courses'][i] == 'FFF-2014J':\n",
    "                fff_2014j = str(data['gender'][i] + ' ') + str(data['region'][i] + ' ') + str(data['highest_education'][i] + ' ') + str(data['imd_band'][i] + ' ') + str(data['age_band'][i] + ' ') + str(data['final_result'][i] + ' ')\n",
    "                fff_2014j = fff_2014j.lower()\n",
    "                split = fff_2014j.split()\n",
    "                shuffle(split)\n",
    "                fff_2014j = ' '.join(split) # Turn the list back into a string\n",
    "                concatenatedFff2014j =' ' + fff_2014j + concatenatedFff2014j\n",
    "        elif data['courses'][i] == 'GGG-2013J':\n",
    "                ggg_2013j = str(data['gender'][i] + ' ') + str(data['region'][i] + ' ') + str(data['highest_education'][i] + ' ') + str(data['imd_band'][i] + ' ') + str(data['age_band'][i] + ' ') + str(data['final_result'][i] + ' ')\n",
    "                ggg_2013j = ggg_2013j.lower()\n",
    "                split = ggg_2013j.split()\n",
    "                shuffle(split)\n",
    "                ggg_2013j = ' '.join(split) # Turn the list back into a string\n",
    "                concatenatedGgg2013j =' ' + ggg_2013j + concatenatedGgg2013j\n",
    "        elif data['courses'][i] == 'GGG-2014B':\n",
    "                ggg_2014b = str(data['gender'][i] + ' ') + str(data['region'][i] + ' ') + str(data['highest_education'][i] + ' ') + str(data['imd_band'][i] + ' ') + str(data['age_band'][i] + ' ') + str(data['final_result'][i] + ' ')\n",
    "                ggg_2014b = ggg_2014b.lower()\n",
    "                split = ggg_2014b.split()\n",
    "                shuffle(split)\n",
    "                ggg_2014b = ' '.join(split) # Turn the list back into a string\n",
    "                concatenatedGgg2014b =' ' + ggg_2014b + concatenatedGgg2014b\n",
    "        elif data['courses'][i] == 'GGG-2014J':\n",
    "                ggg_2014j = str(data['gender'][i] + ' ') + str(data['region'][i] + ' ') + str(data['highest_education'][i] + ' ') + str(data['imd_band'][i] + ' ') + str(data['age_band'][i] + ' ') + str(data['final_result'][i] + ' ')\n",
    "                ggg_2014j = ggg_2014j.lower()\n",
    "                split = ggg_2014j.split()\n",
    "                shuffle(split)\n",
    "                ggg_2014j = ' '.join(split) # Turn the list back into a string\n",
    "                concatenatedGgg2014j =' ' + ggg_2014j + concatenatedGgg2014j\n",
    "                                                                                \n",
    "tokenized_data.append(nltk.word_tokenize(concatenatedAaa2013j))\n",
    "tokenized_data.append(nltk.word_tokenize(concatenatedAaa2014j))\n",
    "tokenized_data.append(nltk.word_tokenize(concatenatedBbb2013b))\n",
    "tokenized_data.append(nltk.word_tokenize(concatenatedBbb2013j))\n",
    "tokenized_data.append(nltk.word_tokenize(concatenatedBbb2014b))\n",
    "tokenized_data.append(nltk.word_tokenize(concatenatedBbb2014j))\n",
    "tokenized_data.append(nltk.word_tokenize(concatenatedCcc2014b))\n",
    "tokenized_data.append(nltk.word_tokenize(concatenatedCcc2014j))\n",
    "tokenized_data.append(nltk.word_tokenize(concatenatedDdd2013b))\n",
    "tokenized_data.append(nltk.word_tokenize(concatenatedDdd2013j))\n",
    "tokenized_data.append(nltk.word_tokenize(concatenatedDdd2014b))\n",
    "tokenized_data.append(nltk.word_tokenize(concatenatedDdd2014j))\n",
    "tokenized_data.append(nltk.word_tokenize(concatenatedEee2013j))\n",
    "tokenized_data.append(nltk.word_tokenize(concatenatedEee2014b))\n",
    "tokenized_data.append(nltk.word_tokenize(concatenatedEee2014j))\n",
    "tokenized_data.append(nltk.word_tokenize(concatenatedFff2013b))\n",
    "tokenized_data.append(nltk.word_tokenize(concatenatedFff2013j))\n",
    "tokenized_data.append(nltk.word_tokenize(concatenatedFff2014b))\n",
    "tokenized_data.append(nltk.word_tokenize(concatenatedFff2014j))\n",
    "tokenized_data.append(nltk.word_tokenize(concatenatedGgg2013j))\n",
    "tokenized_data.append(nltk.word_tokenize(concatenatedGgg2014b))\n",
    "tokenized_data.append(nltk.word_tokenize(concatenatedGgg2014j))\n",
    "\n",
    "\n",
    "\n",
    "\n",
    "             \n",
    "\n",
    "# training the W2V model\n",
    "model = Word2Vec(sentences=tokenized_data, \n",
    "                 window=6,  \n",
    "                 workers=4)\n",
    "\n",
    "\n",
    "def reduce_dimensions(model):\n",
    "    num_components = 2 # number of dimensions to keep after compression\n",
    "    # extract vocabulary from model and vectors in order to associate them in t\n",
    "    vectors = np.asarray(model.wv.vectors)\n",
    "    labels = np.asarray(model.wv.index_to_key)\n",
    "    # apply TSNE\n",
    "    tsne = TSNE(n_components=num_components, random_state=0)\n",
    "    vectors = tsne.fit_transform(vectors)\n",
    "    x_vals = [v[0] for v in vectors]\n",
    "    y_vals = [v[1] for v in vectors]\n",
    "    return x_vals, y_vals, labels\n",
    "\n",
    "def plot_embeddings(x_vals, y_vals, labels):\n",
    " \n",
    "    fig = go.Figure()\n",
    "    trace = go.Scatter(x=x_vals, y=y_vals, mode='markers', text=labels)\n",
    "    fig.add_trace(trace)\n",
    "    fig.update_layout(title=\"Word2Vec - Visualizzazione embedding con TSNE\")\n",
    "    fig.show()\n",
    "    return fig\n",
    "\n",
    "x_vals, y_vals, labels = reduce_dimensions(model)\n",
    "plot = plot_embeddings(x_vals, y_vals, labels)\n",
    "\n",
    "def run_tsne(data, num_dimensions=2, perplexity=30.0, learning_rate=200.0, num_iterations=1000):\n",
    "        # Create t-SNE object\n",
    "        tsne = TSNE(n_components=num_dimensions, perplexity=perplexity, learning_rate=learning_rate, n_iter=num_iterations)\n",
    "\n",
    "        # Run t-SNE on the data\n",
    "        embedded_data = tsne.fit_transform(data)\n",
    "    \n",
    "        return embedded_data\n",
    "\n",
    "\n",
    "def plot_tsne(embedded_data):\n",
    "        # Create a scatter plot of the embedded data\n",
    "        plt.scatter(embedded_data[:, 0], embedded_data[:, 1])\n",
    "        plt.colorbar()\n",
    "        plt.show()\n",
    "\n",
    "\n",
    "\n",
    "\n",
    "# Generate random data\n",
    "data = np.asarray(model.wv.vectors)\n",
    "\n",
    "# Run t-SNE\n",
    "embedded_data = run_tsne(data)\n",
    "\n",
    "\n",
    "\n",
    "\n",
    "\n",
    "kmeans = KMeans()  \n",
    "kmeans.fit(embedded_data)\n",
    "\n",
    "\n",
    "cluster_labels = kmeans.labels_\n",
    "\n",
    "\n",
    "plt.scatter(embedded_data[:, 0], embedded_data[:, 1], c=cluster_labels)\n",
    "plt.colorbar()\n",
    "plt.show()\n",
    "\n",
    "fig, ax = plt.subplots()\n",
    "scatter = ax.scatter(embedded_data[:, 0], embedded_data[:, 1], c=cluster_labels)\n",
    "cbar = plt.colorbar(scatter)\n",
    "\n",
    "# Convert the plot to an interactive HTML format\n",
    "html_graph = mpld3.fig_to_html(fig)\n",
    "    \n",
    "with open('tsne_plot.html', 'w') as file:\n",
    "    file.write(html_graph)\n",
    "  \n",
    "\n"
   ]
  },
  {
   "cell_type": "code",
   "execution_count": 34,
   "id": "30d150ce",
   "metadata": {},
   "outputs": [],
   "source": [
    "df = pd.DataFrame(embedded_data)"
   ]
  },
  {
   "cell_type": "code",
   "execution_count": 35,
   "id": "e917fcb1",
   "metadata": {},
   "outputs": [
    {
     "name": "stderr",
     "output_type": "stream",
     "text": [
      "C:\\ProgramData\\Anaconda3\\lib\\site-packages\\sklearn\\cluster\\_kmeans.py:1036: UserWarning:\n",
      "\n",
      "KMeans is known to have a memory leak on Windows with MKL, when there are less chunks than available threads. You can avoid it by setting the environment variable OMP_NUM_THREADS=1.\n",
      "\n"
     ]
    },
    {
     "data": {
      "image/png": "[encoded data removed]",
      "text/plain": [
       "<Figure size 640x480 with 1 Axes>"
      ]
     },
     "metadata": {},
     "output_type": "display_data"
    }
   ],
   "source": [
    "wcss_list = []\n",
    "for i in range(1, 11):  \n",
    "    kmeans = KMeans(n_clusters=i, init='k-means++', random_state= 42)  \n",
    "    kmeans.fit(df)  \n",
    "    wcss_list.append(kmeans.inertia_)  \n",
    "plt.plot(range(1, 11), wcss_list)  \n",
    "plt.title('The Elobw Method Graph')  \n",
    "plt.xlabel('Number of clusters(k)')  \n",
    "plt.ylabel('wcss_list')  \n",
    "plt.show()"
   ]
  },
  {
   "cell_type": "code",
   "execution_count": 36,
   "id": "ca19c9d1",
   "metadata": {},
   "outputs": [],
   "source": [
    "#training the K-means model on a dataset  \n",
    "kmeans = KMeans(n_clusters=4, init='k-means++', n_init=10, max_iter=300)\n",
    "kmeans.fit(df)\n",
    "pred = kmeans.predict(df)  "
   ]
  },
  {
   "cell_type": "code",
   "execution_count": 37,
   "id": "98e447b1",
   "metadata": {},
   "outputs": [
    {
     "data": {
      "text/plain": [
       "2    13\n",
       "0    13\n",
       "1    10\n",
       "3     7\n",
       "Name: cluster, dtype: int64"
      ]
     },
     "execution_count": 37,
     "metadata": {},
     "output_type": "execute_result"
    }
   ],
   "source": [
    "df['cluster'] = pred\n",
    "df['cluster'].value_counts()"
   ]
  },
  {
   "cell_type": "code",
   "execution_count": 38,
   "id": "a50ad0ab",
   "metadata": {},
   "outputs": [
    {
     "data": {
      "text/html": [
       "<div>\n",
       "<style scoped>\n",
       "    .dataframe tbody tr th:only-of-type {\n",
       "        vertical-align: middle;\n",
       "    }\n",
       "\n",
       "    .dataframe tbody tr th {\n",
       "        vertical-align: top;\n",
       "    }\n",
       "\n",
       "    .dataframe thead th {\n",
       "        text-align: right;\n",
       "    }\n",
       "</style>\n",
       "<table border=\"1\" class=\"dataframe\">\n",
       "  <thead>\n",
       "    <tr style=\"text-align: right;\">\n",
       "      <th></th>\n",
       "      <th>0</th>\n",
       "      <th>1</th>\n",
       "    </tr>\n",
       "    <tr>\n",
       "      <th>cluster</th>\n",
       "      <th></th>\n",
       "      <th></th>\n",
       "    </tr>\n",
       "  </thead>\n",
       "  <tbody>\n",
       "    <tr>\n",
       "      <th>0</th>\n",
       "      <td>35.857037</td>\n",
       "      <td>-9.613638</td>\n",
       "    </tr>\n",
       "    <tr>\n",
       "      <th>1</th>\n",
       "      <td>-27.236155</td>\n",
       "      <td>20.248264</td>\n",
       "    </tr>\n",
       "    <tr>\n",
       "      <th>2</th>\n",
       "      <td>-27.535099</td>\n",
       "      <td>-35.346222</td>\n",
       "    </tr>\n",
       "    <tr>\n",
       "      <th>3</th>\n",
       "      <td>17.713425</td>\n",
       "      <td>53.938137</td>\n",
       "    </tr>\n",
       "  </tbody>\n",
       "</table>\n",
       "</div>"
      ],
      "text/plain": [
       "                 0          1\n",
       "cluster                      \n",
       "0        35.857037  -9.613638\n",
       "1       -27.236155  20.248264\n",
       "2       -27.535099 -35.346222\n",
       "3        17.713425  53.938137"
      ]
     },
     "execution_count": 38,
     "metadata": {},
     "output_type": "execute_result"
    }
   ],
   "source": [
    "df.groupby('cluster').mean()"
   ]
  },
  {
   "cell_type": "code",
   "execution_count": 39,
   "id": "c4019710",
   "metadata": {},
   "outputs": [
    {
     "name": "stderr",
     "output_type": "stream",
     "text": [
      "C:\\ProgramData\\Anaconda3\\lib\\site-packages\\sklearn\\utils\\validation.py:1688: FutureWarning:\n",
      "\n",
      "Feature names only support names that are all strings. Got feature names with dtypes: ['int', 'str']. An error will be raised in 1.2.\n",
      "\n"
     ]
    },
    {
     "data": {
      "image/png": "[encoded data removed]",
      "text/plain": [
       "<Figure size 640x480 with 2 Axes>"
      ]
     },
     "metadata": {},
     "output_type": "display_data"
    },
    {
     "data": {
      "image/png": "[encoded data removed]",
      "text/plain": [
       "<Figure size 640x480 with 2 Axes>"
      ]
     },
     "metadata": {},
     "output_type": "display_data"
    }
   ],
   "source": [
    "import mpld3\n",
    "from sklearn.cluster import KMeans  \n",
    "kmeans = KMeans(n_clusters=4, init='k-means++', n_init=10, max_iter=300)\n",
    "kmeans.fit(df)\n",
    "\n",
    "\n",
    "cluster_labels = kmeans.labels_\n",
    "\n",
    "\n",
    "plt.scatter(df[0], df[1], c=cluster_labels)\n",
    "plt.colorbar()\n",
    "plt.show()\n",
    "\n",
    "fig, ax = plt.subplots()\n",
    "scatter = ax.scatter(df[0], df[1],  c=cluster_labels)\n",
    "cbar = plt.colorbar(scatter)\n",
    "\n",
    "# Convert the plot to an interactive HTML format\n",
    "html_graph = mpld3.fig_to_html(fig)\n",
    "    \n",
    "with open('kmeans.html', 'w') as file:\n",
    "    file.write(html_graph)"
   ]
  }
 ],
 "metadata": {
  "kernelspec": {
   "display_name": "Python 3 (ipykernel)",
   "language": "python",
   "name": "python3"
  },
  "language_info": {
   "codemirror_mode": {
    "name": "ipython",
    "version": 3
   },
   "file_extension": ".py",
   "mimetype": "text/x-python",
   "name": "python",
   "nbconvert_exporter": "python",
   "pygments_lexer": "ipython3",
   "version": "3.9.13"
  }
 },
 "nbformat": 4,
 "nbformat_minor": 5
}
